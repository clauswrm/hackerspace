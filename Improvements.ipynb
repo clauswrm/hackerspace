{
 "cells": [
  {
   "cell_type": "markdown",
   "metadata": {},
   "source": [
    "## Things to try out to improve score\n",
    "\n",
    "..presented in no particular order:\n",
    "\n",
    "### Data preprocessing:\n",
    "Scale pixels to be in the range [0,1] or [-1,1].\n",
    "\n",
    "Add more training data by rotating images, or other augmentations\n",
    "\n",
    "Add a third layer based on the average of the two others\n",
    "\n",
    "### Architecture:\n",
    "\n",
    "Try the ADAM optimizer (replace tf.train.GradientDescentOptimizer with AdamOptimizer)\n",
    "Try a different loss function (replace tf.losses.sparse_softmax_cross_entropy with log_loss) \n",
    "\n",
    "Improve the architecture with new blocks:\n",
    "    - Add a convolutional layer (tf.layers.conv2d)\n",
    "    - Max pooling after convolution (tf.layers.max_pooling2d)\n",
    "    - Repeat the above pattern as many times as you'd like\n",
    "    - Add more dense layers\n",
    "    - Add a dropout layer before last layer (tf.layers.dropout)\n",
    "    \n",
    "Experiment with hyperparameters:\n",
    "    - Learning rate\n",
    "    - Batch size/steps\n",
    "    - Dense layer units\n",
    "    - conv layer kernel size, filters, padding\n",
    "    - dropout probability\n",
    "    \n",
    "\n",
    "### Output\n",
    "Transform output values to optimize logloss"
   ]
  },
  {
   "cell_type": "code",
   "execution_count": null,
   "metadata": {},
   "outputs": [],
   "source": []
  }
 ],
 "metadata": {
  "kernelspec": {
   "display_name": "Python 3",
   "language": "python",
   "name": "python3"
  },
  "language_info": {
   "codemirror_mode": {
    "name": "ipython",
    "version": 3
   },
   "file_extension": ".py",
   "mimetype": "text/x-python",
   "name": "python",
   "nbconvert_exporter": "python",
   "pygments_lexer": "ipython3",
   "version": "3.6.3"
  }
 },
 "nbformat": 4,
 "nbformat_minor": 2
}
